{
 "cells": [
  {
   "cell_type": "code",
   "execution_count": 81,
   "metadata": {},
   "outputs": [
    {
     "name": "stdout",
     "output_type": "stream",
     "text": [
      "Converted C:/Users/USER/Desktop/트레인 데이터/전공드라이버 - 복사본\\1.jpg to C:/Users/USER/Desktop/트레인 데이터/전공드라이버 - 복사본\\1.jpg\n",
      "Converted C:/Users/USER/Desktop/트레인 데이터/전공드라이버 - 복사본\\10.jpg to C:/Users/USER/Desktop/트레인 데이터/전공드라이버 - 복사본\\10.jpg\n",
      "Converted C:/Users/USER/Desktop/트레인 데이터/전공드라이버 - 복사본\\11.jpg to C:/Users/USER/Desktop/트레인 데이터/전공드라이버 - 복사본\\11.jpg\n",
      "Converted C:/Users/USER/Desktop/트레인 데이터/전공드라이버 - 복사본\\12.jpg to C:/Users/USER/Desktop/트레인 데이터/전공드라이버 - 복사본\\12.jpg\n",
      "Converted C:/Users/USER/Desktop/트레인 데이터/전공드라이버 - 복사본\\13.jpg to C:/Users/USER/Desktop/트레인 데이터/전공드라이버 - 복사본\\13.jpg\n",
      "Converted C:/Users/USER/Desktop/트레인 데이터/전공드라이버 - 복사본\\14.jpg to C:/Users/USER/Desktop/트레인 데이터/전공드라이버 - 복사본\\14.jpg\n",
      "Converted C:/Users/USER/Desktop/트레인 데이터/전공드라이버 - 복사본\\15.jpg to C:/Users/USER/Desktop/트레인 데이터/전공드라이버 - 복사본\\15.jpg\n",
      "Converted C:/Users/USER/Desktop/트레인 데이터/전공드라이버 - 복사본\\16.jpg to C:/Users/USER/Desktop/트레인 데이터/전공드라이버 - 복사본\\16.jpg\n",
      "Converted C:/Users/USER/Desktop/트레인 데이터/전공드라이버 - 복사본\\17.jpg to C:/Users/USER/Desktop/트레인 데이터/전공드라이버 - 복사본\\17.jpg\n",
      "Converted C:/Users/USER/Desktop/트레인 데이터/전공드라이버 - 복사본\\18.jpg to C:/Users/USER/Desktop/트레인 데이터/전공드라이버 - 복사본\\18.jpg\n",
      "Converted C:/Users/USER/Desktop/트레인 데이터/전공드라이버 - 복사본\\19.jpg to C:/Users/USER/Desktop/트레인 데이터/전공드라이버 - 복사본\\19.jpg\n",
      "Converted C:/Users/USER/Desktop/트레인 데이터/전공드라이버 - 복사본\\2.jpg to C:/Users/USER/Desktop/트레인 데이터/전공드라이버 - 복사본\\2.jpg\n",
      "Converted C:/Users/USER/Desktop/트레인 데이터/전공드라이버 - 복사본\\20.jpg to C:/Users/USER/Desktop/트레인 데이터/전공드라이버 - 복사본\\20.jpg\n",
      "Converted C:/Users/USER/Desktop/트레인 데이터/전공드라이버 - 복사본\\21.png to C:/Users/USER/Desktop/트레인 데이터/전공드라이버 - 복사본\\21.jpg\n",
      "Deleted original file: C:/Users/USER/Desktop/트레인 데이터/전공드라이버 - 복사본\\21.png\n",
      "Converted C:/Users/USER/Desktop/트레인 데이터/전공드라이버 - 복사본\\22.png to C:/Users/USER/Desktop/트레인 데이터/전공드라이버 - 복사본\\22.jpg\n",
      "Deleted original file: C:/Users/USER/Desktop/트레인 데이터/전공드라이버 - 복사본\\22.png\n",
      "Converted C:/Users/USER/Desktop/트레인 데이터/전공드라이버 - 복사본\\23.png to C:/Users/USER/Desktop/트레인 데이터/전공드라이버 - 복사본\\23.jpg\n",
      "Deleted original file: C:/Users/USER/Desktop/트레인 데이터/전공드라이버 - 복사본\\23.png\n",
      "Converted C:/Users/USER/Desktop/트레인 데이터/전공드라이버 - 복사본\\24.png to C:/Users/USER/Desktop/트레인 데이터/전공드라이버 - 복사본\\24.jpg\n",
      "Deleted original file: C:/Users/USER/Desktop/트레인 데이터/전공드라이버 - 복사본\\24.png\n",
      "Converted C:/Users/USER/Desktop/트레인 데이터/전공드라이버 - 복사본\\25.png to C:/Users/USER/Desktop/트레인 데이터/전공드라이버 - 복사본\\25.jpg\n",
      "Deleted original file: C:/Users/USER/Desktop/트레인 데이터/전공드라이버 - 복사본\\25.png\n",
      "Converted C:/Users/USER/Desktop/트레인 데이터/전공드라이버 - 복사본\\26.png to C:/Users/USER/Desktop/트레인 데이터/전공드라이버 - 복사본\\26.jpg\n",
      "Deleted original file: C:/Users/USER/Desktop/트레인 데이터/전공드라이버 - 복사본\\26.png\n",
      "Converted C:/Users/USER/Desktop/트레인 데이터/전공드라이버 - 복사본\\27.png to C:/Users/USER/Desktop/트레인 데이터/전공드라이버 - 복사본\\27.jpg\n",
      "Deleted original file: C:/Users/USER/Desktop/트레인 데이터/전공드라이버 - 복사본\\27.png\n",
      "Converted C:/Users/USER/Desktop/트레인 데이터/전공드라이버 - 복사본\\28.png to C:/Users/USER/Desktop/트레인 데이터/전공드라이버 - 복사본\\28.jpg\n",
      "Deleted original file: C:/Users/USER/Desktop/트레인 데이터/전공드라이버 - 복사본\\28.png\n",
      "Converted C:/Users/USER/Desktop/트레인 데이터/전공드라이버 - 복사본\\29.png to C:/Users/USER/Desktop/트레인 데이터/전공드라이버 - 복사본\\29.jpg\n",
      "Deleted original file: C:/Users/USER/Desktop/트레인 데이터/전공드라이버 - 복사본\\29.png\n",
      "Converted C:/Users/USER/Desktop/트레인 데이터/전공드라이버 - 복사본\\3.jpg to C:/Users/USER/Desktop/트레인 데이터/전공드라이버 - 복사본\\3.jpg\n",
      "Converted C:/Users/USER/Desktop/트레인 데이터/전공드라이버 - 복사본\\30.png to C:/Users/USER/Desktop/트레인 데이터/전공드라이버 - 복사본\\30.jpg\n",
      "Deleted original file: C:/Users/USER/Desktop/트레인 데이터/전공드라이버 - 복사본\\30.png\n",
      "Converted C:/Users/USER/Desktop/트레인 데이터/전공드라이버 - 복사본\\31.png to C:/Users/USER/Desktop/트레인 데이터/전공드라이버 - 복사본\\31.jpg\n",
      "Deleted original file: C:/Users/USER/Desktop/트레인 데이터/전공드라이버 - 복사본\\31.png\n",
      "Converted C:/Users/USER/Desktop/트레인 데이터/전공드라이버 - 복사본\\32.png to C:/Users/USER/Desktop/트레인 데이터/전공드라이버 - 복사본\\32.jpg\n",
      "Deleted original file: C:/Users/USER/Desktop/트레인 데이터/전공드라이버 - 복사본\\32.png\n",
      "Converted C:/Users/USER/Desktop/트레인 데이터/전공드라이버 - 복사본\\33.png to C:/Users/USER/Desktop/트레인 데이터/전공드라이버 - 복사본\\33.jpg\n",
      "Deleted original file: C:/Users/USER/Desktop/트레인 데이터/전공드라이버 - 복사본\\33.png\n",
      "Converted C:/Users/USER/Desktop/트레인 데이터/전공드라이버 - 복사본\\34.png to C:/Users/USER/Desktop/트레인 데이터/전공드라이버 - 복사본\\34.jpg\n",
      "Deleted original file: C:/Users/USER/Desktop/트레인 데이터/전공드라이버 - 복사본\\34.png\n",
      "Converted C:/Users/USER/Desktop/트레인 데이터/전공드라이버 - 복사본\\35.png to C:/Users/USER/Desktop/트레인 데이터/전공드라이버 - 복사본\\35.jpg\n",
      "Deleted original file: C:/Users/USER/Desktop/트레인 데이터/전공드라이버 - 복사본\\35.png\n",
      "Converted C:/Users/USER/Desktop/트레인 데이터/전공드라이버 - 복사본\\36.jpg to C:/Users/USER/Desktop/트레인 데이터/전공드라이버 - 복사본\\36.jpg\n",
      "Converted C:/Users/USER/Desktop/트레인 데이터/전공드라이버 - 복사본\\37.png to C:/Users/USER/Desktop/트레인 데이터/전공드라이버 - 복사본\\37.jpg\n",
      "Deleted original file: C:/Users/USER/Desktop/트레인 데이터/전공드라이버 - 복사본\\37.png\n",
      "Converted C:/Users/USER/Desktop/트레인 데이터/전공드라이버 - 복사본\\38.jpg to C:/Users/USER/Desktop/트레인 데이터/전공드라이버 - 복사본\\38.jpg\n",
      "Converted C:/Users/USER/Desktop/트레인 데이터/전공드라이버 - 복사본\\39.jpg to C:/Users/USER/Desktop/트레인 데이터/전공드라이버 - 복사본\\39.jpg\n",
      "Converted C:/Users/USER/Desktop/트레인 데이터/전공드라이버 - 복사본\\4.jpg to C:/Users/USER/Desktop/트레인 데이터/전공드라이버 - 복사본\\4.jpg\n",
      "Converted C:/Users/USER/Desktop/트레인 데이터/전공드라이버 - 복사본\\40.jpg to C:/Users/USER/Desktop/트레인 데이터/전공드라이버 - 복사본\\40.jpg\n",
      "Converted C:/Users/USER/Desktop/트레인 데이터/전공드라이버 - 복사본\\41.jpg to C:/Users/USER/Desktop/트레인 데이터/전공드라이버 - 복사본\\41.jpg\n",
      "Converted C:/Users/USER/Desktop/트레인 데이터/전공드라이버 - 복사본\\42.jpg to C:/Users/USER/Desktop/트레인 데이터/전공드라이버 - 복사본\\42.jpg\n",
      "Converted C:/Users/USER/Desktop/트레인 데이터/전공드라이버 - 복사본\\43.png to C:/Users/USER/Desktop/트레인 데이터/전공드라이버 - 복사본\\43.jpg\n",
      "Deleted original file: C:/Users/USER/Desktop/트레인 데이터/전공드라이버 - 복사본\\43.png\n",
      "Converted C:/Users/USER/Desktop/트레인 데이터/전공드라이버 - 복사본\\44.jpg to C:/Users/USER/Desktop/트레인 데이터/전공드라이버 - 복사본\\44.jpg\n",
      "Converted C:/Users/USER/Desktop/트레인 데이터/전공드라이버 - 복사본\\45.png to C:/Users/USER/Desktop/트레인 데이터/전공드라이버 - 복사본\\45.jpg\n",
      "Deleted original file: C:/Users/USER/Desktop/트레인 데이터/전공드라이버 - 복사본\\45.png\n",
      "Converted C:/Users/USER/Desktop/트레인 데이터/전공드라이버 - 복사본\\46.png to C:/Users/USER/Desktop/트레인 데이터/전공드라이버 - 복사본\\46.jpg\n",
      "Deleted original file: C:/Users/USER/Desktop/트레인 데이터/전공드라이버 - 복사본\\46.png\n",
      "Converted C:/Users/USER/Desktop/트레인 데이터/전공드라이버 - 복사본\\47.jpg to C:/Users/USER/Desktop/트레인 데이터/전공드라이버 - 복사본\\47.jpg\n",
      "Converted C:/Users/USER/Desktop/트레인 데이터/전공드라이버 - 복사본\\48.png to C:/Users/USER/Desktop/트레인 데이터/전공드라이버 - 복사본\\48.jpg\n",
      "Deleted original file: C:/Users/USER/Desktop/트레인 데이터/전공드라이버 - 복사본\\48.png\n",
      "Converted C:/Users/USER/Desktop/트레인 데이터/전공드라이버 - 복사본\\49.png to C:/Users/USER/Desktop/트레인 데이터/전공드라이버 - 복사본\\49.jpg\n",
      "Deleted original file: C:/Users/USER/Desktop/트레인 데이터/전공드라이버 - 복사본\\49.png\n",
      "Converted C:/Users/USER/Desktop/트레인 데이터/전공드라이버 - 복사본\\5.jpg to C:/Users/USER/Desktop/트레인 데이터/전공드라이버 - 복사본\\5.jpg\n",
      "Converted C:/Users/USER/Desktop/트레인 데이터/전공드라이버 - 복사본\\50.png to C:/Users/USER/Desktop/트레인 데이터/전공드라이버 - 복사본\\50.jpg\n",
      "Deleted original file: C:/Users/USER/Desktop/트레인 데이터/전공드라이버 - 복사본\\50.png\n",
      "Converted C:/Users/USER/Desktop/트레인 데이터/전공드라이버 - 복사본\\6.jpg to C:/Users/USER/Desktop/트레인 데이터/전공드라이버 - 복사본\\6.jpg\n",
      "Converted C:/Users/USER/Desktop/트레인 데이터/전공드라이버 - 복사본\\7.jpg to C:/Users/USER/Desktop/트레인 데이터/전공드라이버 - 복사본\\7.jpg\n",
      "Converted C:/Users/USER/Desktop/트레인 데이터/전공드라이버 - 복사본\\8.jpg to C:/Users/USER/Desktop/트레인 데이터/전공드라이버 - 복사본\\8.jpg\n",
      "Converted C:/Users/USER/Desktop/트레인 데이터/전공드라이버 - 복사본\\9.jpg to C:/Users/USER/Desktop/트레인 데이터/전공드라이버 - 복사본\\9.jpg\n",
      "모든 파일이 JPG 형식으로 변환되었으며, PNG 파일은 삭제되었습니다.\n"
     ]
    }
   ],
   "source": [
    "import os\n",
    "from PIL import Image\n",
    "\n",
    "# 디렉토리 경로 설정\n",
    "directory = 'C:/Users/USER/Desktop/트레인 데이터/전공드라이버 - 복사본'\n",
    "\n",
    "# 디렉토리 내 파일 목록 가져오기\n",
    "files = os.listdir(directory)\n",
    "\n",
    "# 파일 변환 함수\n",
    "def convert_to_jpg(file_path, output_path):\n",
    "    try:\n",
    "        with Image.open(file_path) as img:\n",
    "            # PNG와 JPG를 JPG로 변환\n",
    "            img.convert('RGB').save(output_path, 'JPEG')\n",
    "        print(f\"Converted {file_path} to {output_path}\")\n",
    "        return True\n",
    "    except Exception as e:\n",
    "        print(f\"Error converting {file_path}: {e}\")\n",
    "        return False\n",
    "\n",
    "# 파일 변환\n",
    "for filename in files:\n",
    "    file_path = os.path.join(directory, filename)\n",
    "    file_extension = os.path.splitext(filename)[1].lower()\n",
    "    \n",
    "    # PNG와 JPG 파일만 변환\n",
    "    if file_extension in ['.png', '.jpg', '.jpeg']:\n",
    "        new_filename = os.path.splitext(filename)[0] + '.jpg'\n",
    "        new_file_path = os.path.join(directory, new_filename)\n",
    "        \n",
    "        if convert_to_jpg(file_path, new_file_path):\n",
    "            # 변환 성공 시, 원래의 PNG 파일 삭제\n",
    "            if file_extension == '.png':\n",
    "                os.remove(file_path)\n",
    "                print(f\"Deleted original file: {file_path}\")\n",
    "\n",
    "print(\"모든 파일이 JPG 형식으로 변환되었으며, PNG 파일은 삭제되었습니다.\")\n"
   ]
  },
  {
   "cell_type": "code",
   "execution_count": 82,
   "metadata": {},
   "outputs": [
    {
     "name": "stdout",
     "output_type": "stream",
     "text": [
      "파일 이름 변경 완료\n"
     ]
    }
   ],
   "source": [
    "import os\n",
    "import re\n",
    "\n",
    "# 디렉토리 경로 설정\n",
    "directory = \"C:/Users/USER/Desktop/트레인 데이터/전공드라이버 - 복사본\"\n",
    "\n",
    "# 디렉토리 내 파일 목록 가져오기\n",
    "files = os.listdir(directory)\n",
    "\n",
    "# 정규 표현식으로 파일 이름 정렬 (숫자가 포함된 파일 이름을 기준으로 정렬)\n",
    "files.sort(key=lambda x: int(re.search(r'\\d+', x).group()))\n",
    "\n",
    "# 파일 이름을 snap_{i+1} 형식으로 변경\n",
    "for i, filename in enumerate(files):\n",
    "    # 파일 확장자 추출\n",
    "    file_extension = os.path.splitext(filename)[1]\n",
    "    \n",
    "    # 새 파일 이름 생성\n",
    "    new_name = f'ball_{i+1}{file_extension}'\n",
    "    \n",
    "    # 경로 설정\n",
    "    old_path = os.path.join(directory, filename)\n",
    "    new_path = os.path.join(directory, new_name)\n",
    "    \n",
    "    # 파일 이름 변경\n",
    "    os.rename(old_path, new_path)\n",
    "\n",
    "print(\"파일 이름 변경 완료\")\n"
   ]
  },
  {
   "cell_type": "code",
   "execution_count": 83,
   "metadata": {},
   "outputs": [],
   "source": [
    "from azure.cognitiveservices.vision.customvision.training import CustomVisionTrainingClient\n",
    "from azure.cognitiveservices.vision.customvision.prediction import CustomVisionPredictionClient\n",
    "from azure.cognitiveservices.vision.customvision.training.models import ImageFileCreateBatch, ImageFileCreateEntry, Region\n",
    "from msrest.authentication import ApiKeyCredentials\n",
    "import os, time, uuid"
   ]
  },
  {
   "cell_type": "code",
   "execution_count": 84,
   "metadata": {},
   "outputs": [],
   "source": [
    "ENDPOINT = 'https://b05mlcv20240717.cognitiveservices.azure.com/'\n",
    "training_key = '2dc402bd0c5e45fbbc54730fb2757532'\n",
    "prediction_key = '7fd189c12f57491ca0825b87124b2bcb'\n",
    "prediction_resource_id = '/subscriptions/b850d62a-25fe-4d3a-9697-ea40449528a9/resourceGroups/b05-AzureMLDTest/providers/Microsoft.CognitiveServices/accounts/b05mlcv20240717-Prediction'"
   ]
  },
  {
   "cell_type": "code",
   "execution_count": 85,
   "metadata": {},
   "outputs": [],
   "source": [
    "credentials = ApiKeyCredentials(in_headers={\"Training-key\": training_key})\n",
    "trainer = CustomVisionTrainingClient(ENDPOINT, credentials)\n",
    "prediction_credentials = ApiKeyCredentials(in_headers={\"Prediction-key\": prediction_key})\n",
    "predictor = CustomVisionPredictionClient(ENDPOINT, prediction_credentials)"
   ]
  },
  {
   "cell_type": "code",
   "execution_count": 86,
   "metadata": {},
   "outputs": [
    {
     "name": "stdout",
     "output_type": "stream",
     "text": [
      "Creating project...\n"
     ]
    }
   ],
   "source": [
    "publish_iteration_name = \"b05_od\"\n",
    "\n",
    "# Find the object detection domain\n",
    "obj_detection_domain = next(domain for domain in trainer.get_domains() if domain.type == \"ObjectDetection\" and domain.name == \"General\")\n",
    "\n",
    "# Create a new project\n",
    "print (\"Creating project...\")\n",
    "# Use uuid to avoid project name collisions.\n",
    "project = trainer.create_project(str(uuid.uuid4()), domain_id=obj_detection_domain.id)"
   ]
  },
  {
   "cell_type": "code",
   "execution_count": 96,
   "metadata": {},
   "outputs": [],
   "source": [
    "# Make tags in the new project\n",
    "ball_tag = trainer.create_tag(project.id, \"ball\")"
   ]
  },
  {
   "cell_type": "code",
   "execution_count": 97,
   "metadata": {},
   "outputs": [],
   "source": [
    "ball_image_regions = {f\"ball_{i}\": [0, 0, 1, 1] for i in range(1, 51)}"
   ]
  },
  {
   "cell_type": "code",
   "execution_count": 98,
   "metadata": {},
   "outputs": [
    {
     "name": "stdout",
     "output_type": "stream",
     "text": [
      "Adding images...\n"
     ]
    }
   ],
   "source": [
    "base_image_location = \"C:/Users/USER/Desktop/트레인 데이터/전공드라이버 - 복사본\"\n",
    "# Go through the data table above and create the images\n",
    "print (\"Adding images...\")\n",
    "tagged_images_with_regions = []#태깅을위한 리스트 초기화"
   ]
  },
  {
   "cell_type": "code",
   "execution_count": 99,
   "metadata": {},
   "outputs": [
    {
     "name": "stdout",
     "output_type": "stream",
     "text": [
      "이미지 파일 처리가 완료되었습니다.\n"
     ]
    }
   ],
   "source": [
    "for file_name in ball_image_regions.keys():\n",
    "    # 'ball_50'까지만 처리\n",
    "    if int(file_name.split('_')[1]) <= 50:\n",
    "        x, y, w, h = ball_image_regions[file_name]\n",
    "        regions = [Region(tag_id=ball_tag.id, left=x, top=y, width=w, height=h)]\n",
    "\n",
    "# 이미지 파일 경로를 구성\n",
    "    file_path = os.path.join(base_image_location, file_name + \".jpg\")\n",
    "    \n",
    "    try:\n",
    "        with open(file_path, mode=\"rb\") as image_contents:\n",
    "            # 이미지와 region을 함께 저장\n",
    "            tagged_images_with_regions.append(ImageFileCreateEntry(name=file_name, contents=image_contents.read(), regions=regions))\n",
    "    except FileNotFoundError:\n",
    "        print(f\"파일을 찾을 수 없습니다: {file_path}\")\n",
    "    except Exception as e:\n",
    "        print(f\"파일 처리 중 오류 발생: {e}\")\n",
    "\n",
    "\n",
    "print(\"이미지 파일 처리가 완료되었습니다.\")"
   ]
  },
  {
   "cell_type": "code",
   "execution_count": 100,
   "metadata": {},
   "outputs": [
    {
     "name": "stdout",
     "output_type": "stream",
     "text": [
      "Image batch upload failed.\n",
      "Image status:  OK\n",
      "Image status:  OK\n",
      "Image status:  OK\n",
      "Image status:  OK\n",
      "Image status:  OK\n",
      "Image status:  OKDuplicate\n",
      "Image status:  OK\n",
      "Image status:  OK\n",
      "Image status:  OKDuplicate\n",
      "Image status:  OK\n",
      "Image status:  OK\n",
      "Image status:  OK\n",
      "Image status:  OK\n",
      "Image status:  OK\n",
      "Image status:  OK\n",
      "Image status:  OK\n",
      "Image status:  OK\n",
      "Image status:  OK\n",
      "Image status:  OK\n",
      "Image status:  OK\n",
      "Image status:  OK\n",
      "Image status:  OK\n",
      "Image status:  OK\n",
      "Image status:  OK\n",
      "Image status:  OK\n",
      "Image status:  OK\n",
      "Image status:  OK\n",
      "Image status:  OK\n",
      "Image status:  OK\n",
      "Image status:  OK\n",
      "Image status:  OK\n",
      "Image status:  OK\n",
      "Image status:  OK\n",
      "Image status:  OK\n",
      "Image status:  OK\n",
      "Image status:  OK\n",
      "Image status:  OK\n",
      "Image status:  OK\n",
      "Image status:  OK\n",
      "Image status:  OK\n",
      "Image status:  OK\n",
      "Image status:  OK\n",
      "Image status:  OK\n",
      "Image status:  OK\n",
      "Image status:  OK\n",
      "Image status:  OK\n",
      "Image status:  OK\n",
      "Image status:  OK\n",
      "Image status:  OK\n",
      "Image status:  OK\n"
     ]
    }
   ],
   "source": [
    "upload_result = trainer.create_images_from_files(project.id, ImageFileCreateBatch(images=tagged_images_with_regions))\n",
    "if not upload_result.is_batch_successful:\n",
    "    print(\"Image batch upload failed.\")\n",
    "    for image in upload_result.images:\n",
    "        print(\"Image status: \", image.status)\n",
    "    exit(-1)"
   ]
  }
 ],
 "metadata": {
  "kernelspec": {
   "display_name": "Python 3",
   "language": "python",
   "name": "python3"
  },
  "language_info": {
   "codemirror_mode": {
    "name": "ipython",
    "version": 3
   },
   "file_extension": ".py",
   "mimetype": "text/x-python",
   "name": "python",
   "nbconvert_exporter": "python",
   "pygments_lexer": "ipython3",
   "version": "3.12.4"
  }
 },
 "nbformat": 4,
 "nbformat_minor": 2
}
